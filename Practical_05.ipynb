{
 "cells": [
  {
   "cell_type": "markdown",
   "id": "ddb1641e",
   "metadata": {
    "_cell_guid": "b1076dfc-b9ad-4769-8c92-a6c4dae69d19",
    "_uuid": "8f2839f25d086af736a60e9eeb907d3b93b6e0e5",
    "papermill": {
     "duration": 0.002739,
     "end_time": "2023-10-13T13:29:34.502685",
     "exception": false,
     "start_time": "2023-10-13T13:29:34.499946",
     "status": "completed"
    },
    "tags": []
   },
   "source": [
    "<h2 style=\"color:navy\"><u>Practical : 5</u></h2>"
   ]
  },
  {
   "cell_type": "markdown",
   "id": "55706e0c",
   "metadata": {
    "papermill": {
     "duration": 0.001761,
     "end_time": "2023-10-13T13:29:34.506642",
     "exception": false,
     "start_time": "2023-10-13T13:29:34.504881",
     "status": "completed"
    },
    "tags": []
   },
   "source": [
    "**<h4><u>Write a NumPy program to implement following operation</u></h4>**"
   ]
  },
  {
   "cell_type": "markdown",
   "id": "1ac3de6e",
   "metadata": {
    "papermill": {
     "duration": 0.001461,
     "end_time": "2023-10-13T13:29:34.511982",
     "exception": false,
     "start_time": "2023-10-13T13:29:34.510521",
     "status": "completed"
    },
    "tags": []
   },
   "source": [
    "* to find the maximum and minimum value of a given flattened array"
   ]
  },
  {
   "cell_type": "code",
   "execution_count": 1,
   "id": "606dc270",
   "metadata": {
    "execution": {
     "iopub.execute_input": "2023-10-13T13:29:34.518070Z",
     "iopub.status.busy": "2023-10-13T13:29:34.517309Z",
     "iopub.status.idle": "2023-10-13T13:29:34.530296Z",
     "shell.execute_reply": "2023-10-13T13:29:34.529195Z"
    },
    "papermill": {
     "duration": 0.019232,
     "end_time": "2023-10-13T13:29:34.532867",
     "exception": false,
     "start_time": "2023-10-13T13:29:34.513635",
     "status": "completed"
    },
    "tags": []
   },
   "outputs": [
    {
     "name": "stdout",
     "output_type": "stream",
     "text": [
      "Minimum value: 10\n",
      "Maximum value 50\n"
     ]
    }
   ],
   "source": [
    "import numpy as np;\n",
    "\n",
    "arr = np.array([10, 20, 30, 40, 50])\n",
    "\n",
    "minimum = np.min(arr)\n",
    "maximum = np.max(arr)\n",
    "\n",
    "print(\"Minimum value:\",minimum)\n",
    "print(\"Maximum value\",maximum)"
   ]
  },
  {
   "cell_type": "markdown",
   "id": "de3d547d",
   "metadata": {
    "papermill": {
     "duration": 0.001744,
     "end_time": "2023-10-13T13:29:34.536826",
     "exception": false,
     "start_time": "2023-10-13T13:29:34.535082",
     "status": "completed"
    },
    "tags": []
   },
   "source": [
    "* to compute the mean, standard deviation, and variance of a given array along the second axis"
   ]
  },
  {
   "cell_type": "code",
   "execution_count": 2,
   "id": "b708d08c",
   "metadata": {
    "execution": {
     "iopub.execute_input": "2023-10-13T13:29:34.542413Z",
     "iopub.status.busy": "2023-10-13T13:29:34.541820Z",
     "iopub.status.idle": "2023-10-13T13:29:34.549651Z",
     "shell.execute_reply": "2023-10-13T13:29:34.548517Z"
    },
    "papermill": {
     "duration": 0.012842,
     "end_time": "2023-10-13T13:29:34.551412",
     "exception": false,
     "start_time": "2023-10-13T13:29:34.538570",
     "status": "completed"
    },
    "tags": []
   },
   "outputs": [
    {
     "name": "stdout",
     "output_type": "stream",
     "text": [
      "The mean of an array is: [20. 50. 80.]\n",
      "The standard deviation of an array is: [8.16496581 8.16496581 8.16496581]\n",
      "The variation of an array is: [66.66666667 66.66666667 66.66666667]\n"
     ]
    }
   ],
   "source": [
    "import numpy as np;\n",
    "\n",
    "arr = np.array([[10, 20, 30],\n",
    "                [40, 50, 60],\n",
    "                [70, 80, 90]])\n",
    "mean = np.mean(arr, axis=1)\n",
    "deviation = np.std(arr, axis=1)\n",
    "variation = np.var(arr, axis=1)\n",
    "\n",
    "print(\"The mean of an array is:\",mean)\n",
    "print(\"The standard deviation of an array is:\",deviation )\n",
    "print(\"The variation of an array is:\",variation)"
   ]
  }
 ],
 "metadata": {
  "kernelspec": {
   "display_name": "Python 3",
   "language": "python",
   "name": "python3"
  },
  "language_info": {
   "codemirror_mode": {
    "name": "ipython",
    "version": 3
   },
   "file_extension": ".py",
   "mimetype": "text/x-python",
   "name": "python",
   "nbconvert_exporter": "python",
   "pygments_lexer": "ipython3",
   "version": "3.10.12"
  },
  "papermill": {
   "default_parameters": {},
   "duration": 3.470755,
   "end_time": "2023-10-13T13:29:34.875264",
   "environment_variables": {},
   "exception": null,
   "input_path": "__notebook__.ipynb",
   "output_path": "__notebook__.ipynb",
   "parameters": {},
   "start_time": "2023-10-13T13:29:31.404509",
   "version": "2.4.0"
  }
 },
 "nbformat": 4,
 "nbformat_minor": 5
}
