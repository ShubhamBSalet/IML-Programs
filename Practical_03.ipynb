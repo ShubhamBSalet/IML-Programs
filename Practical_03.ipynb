{
 "cells": [
  {
   "cell_type": "markdown",
   "id": "66e02beb",
   "metadata": {
    "_cell_guid": "b1076dfc-b9ad-4769-8c92-a6c4dae69d19",
    "_uuid": "8f2839f25d086af736a60e9eeb907d3b93b6e0e5",
    "papermill": {
     "duration": 0.002343,
     "end_time": "2023-10-13T13:27:44.792849",
     "exception": false,
     "start_time": "2023-10-13T13:27:44.790506",
     "status": "completed"
    },
    "tags": []
   },
   "source": [
    "<h2 style=\"color:navy\"><u>Practical : 3</u></h2>"
   ]
  },
  {
   "cell_type": "markdown",
   "id": "26f2818e",
   "metadata": {
    "papermill": {
     "duration": 0.001662,
     "end_time": "2023-10-13T13:27:44.796634",
     "exception": false,
     "start_time": "2023-10-13T13:27:44.794972",
     "status": "completed"
    },
    "tags": []
   },
   "source": [
    "**<h4><u>Write a NumPy program to implement following operation</u></h4>**"
   ]
  },
  {
   "cell_type": "markdown",
   "id": "56544944",
   "metadata": {
    "papermill": {
     "duration": 0.00167,
     "end_time": "2023-10-13T13:27:44.802233",
     "exception": false,
     "start_time": "2023-10-13T13:27:44.800563",
     "status": "completed"
    },
    "tags": []
   },
   "source": [
    "* to split an array of 14 elements into 3 arrays, each with 2, 4, and 8\n",
    "elements in the original order"
   ]
  },
  {
   "cell_type": "code",
   "execution_count": 1,
   "id": "0a1d3527",
   "metadata": {
    "execution": {
     "iopub.execute_input": "2023-10-13T13:27:44.808226Z",
     "iopub.status.busy": "2023-10-13T13:27:44.807800Z",
     "iopub.status.idle": "2023-10-13T13:27:44.821726Z",
     "shell.execute_reply": "2023-10-13T13:27:44.820469Z"
    },
    "papermill": {
     "duration": 0.020606,
     "end_time": "2023-10-13T13:27:44.824706",
     "exception": false,
     "start_time": "2023-10-13T13:27:44.804100",
     "status": "completed"
    },
    "tags": []
   },
   "outputs": [
    {
     "name": "stdout",
     "output_type": "stream",
     "text": [
      "Split an array: \n",
      " [array([1, 2]), array([3, 4, 5, 6]), array([ 7,  8,  9, 10, 11, 12, 13, 14])]\n"
     ]
    }
   ],
   "source": [
    "import numpy as np;\n",
    "\n",
    "arr = np.array([1, 2, 3, 4, 5, 6, 7, 8, 9, 10, 11, 12, 13, 14])\n",
    "result = np.array_split(arr, [2, 6])\n",
    "print(\"Split an array: \\n\",result)"
   ]
  },
  {
   "cell_type": "markdown",
   "id": "69f30d34",
   "metadata": {
    "papermill": {
     "duration": 0.001821,
     "end_time": "2023-10-13T13:27:44.828713",
     "exception": false,
     "start_time": "2023-10-13T13:27:44.826892",
     "status": "completed"
    },
    "tags": []
   },
   "source": [
    "* to stack arrays horizontally (column wise)"
   ]
  },
  {
   "cell_type": "code",
   "execution_count": 2,
   "id": "778d72b3",
   "metadata": {
    "execution": {
     "iopub.execute_input": "2023-10-13T13:27:44.835162Z",
     "iopub.status.busy": "2023-10-13T13:27:44.834719Z",
     "iopub.status.idle": "2023-10-13T13:27:44.841771Z",
     "shell.execute_reply": "2023-10-13T13:27:44.840631Z"
    },
    "papermill": {
     "duration": 0.013191,
     "end_time": "2023-10-13T13:27:44.843886",
     "exception": false,
     "start_time": "2023-10-13T13:27:44.830695",
     "status": "completed"
    },
    "tags": []
   },
   "outputs": [
    {
     "name": "stdout",
     "output_type": "stream",
     "text": [
      "[[1, 4, 7], [2, 5, 8], [3, 6, 9]]\n"
     ]
    }
   ],
   "source": [
    "array1 = [1, 2, 3]\n",
    "array2 = [4, 5, 6]\n",
    "array3 = [7, 8, 9]\n",
    "\n",
    "result = [list(column) for column in zip(array1, array2, array3)]\n",
    "\n",
    "print(result)"
   ]
  }
 ],
 "metadata": {
  "kernelspec": {
   "display_name": "Python 3",
   "language": "python",
   "name": "python3"
  },
  "language_info": {
   "codemirror_mode": {
    "name": "ipython",
    "version": 3
   },
   "file_extension": ".py",
   "mimetype": "text/x-python",
   "name": "python",
   "nbconvert_exporter": "python",
   "pygments_lexer": "ipython3",
   "version": "3.10.12"
  },
  "papermill": {
   "default_parameters": {},
   "duration": 3.882477,
   "end_time": "2023-10-13T13:27:45.265718",
   "environment_variables": {},
   "exception": null,
   "input_path": "__notebook__.ipynb",
   "output_path": "__notebook__.ipynb",
   "parameters": {},
   "start_time": "2023-10-13T13:27:41.383241",
   "version": "2.4.0"
  }
 },
 "nbformat": 4,
 "nbformat_minor": 5
}
