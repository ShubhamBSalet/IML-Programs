{
 "cells": [
  {
   "cell_type": "markdown",
   "id": "48095938",
   "metadata": {
    "_cell_guid": "b1076dfc-b9ad-4769-8c92-a6c4dae69d19",
    "_uuid": "8f2839f25d086af736a60e9eeb907d3b93b6e0e5",
    "papermill": {
     "duration": 0.002913,
     "end_time": "2023-10-13T13:31:02.990971",
     "exception": false,
     "start_time": "2023-10-13T13:31:02.988058",
     "status": "completed"
    },
    "tags": []
   },
   "source": [
    "<h2 style=\"color:navy\"><u>Practical : 6</u></h2>"
   ]
  },
  {
   "cell_type": "markdown",
   "id": "3145b160",
   "metadata": {
    "papermill": {
     "duration": 0.004606,
     "end_time": "2023-10-13T13:31:02.998286",
     "exception": false,
     "start_time": "2023-10-13T13:31:02.993680",
     "status": "completed"
    },
    "tags": []
   },
   "source": [
    "**<h4><u>Write a Pandas program to implement following operation</u></h4>**"
   ]
  },
  {
   "cell_type": "markdown",
   "id": "3a23a48c",
   "metadata": {
    "papermill": {
     "duration": 0.002896,
     "end_time": "2023-10-13T13:31:03.004798",
     "exception": false,
     "start_time": "2023-10-13T13:31:03.001902",
     "status": "completed"
    },
    "tags": []
   },
   "source": [
    "* to convert a NumPy array to a Pandas series"
   ]
  },
  {
   "cell_type": "code",
   "execution_count": 1,
   "id": "f2405768",
   "metadata": {
    "execution": {
     "iopub.execute_input": "2023-10-13T13:31:03.013032Z",
     "iopub.status.busy": "2023-10-13T13:31:03.012302Z",
     "iopub.status.idle": "2023-10-13T13:31:03.443590Z",
     "shell.execute_reply": "2023-10-13T13:31:03.442150Z"
    },
    "papermill": {
     "duration": 0.439326,
     "end_time": "2023-10-13T13:31:03.447072",
     "exception": false,
     "start_time": "2023-10-13T13:31:03.007746",
     "status": "completed"
    },
    "tags": []
   },
   "outputs": [
    {
     "name": "stdout",
     "output_type": "stream",
     "text": [
      "Series is:\n",
      " 0    1\n",
      "1    2\n",
      "2    3\n",
      "3    4\n",
      "4    5\n",
      "dtype: int64\n"
     ]
    }
   ],
   "source": [
    "import numpy as np\n",
    "import pandas as pd\n",
    "\n",
    "arr = np.array([1, 2, 3, 4, 5])\n",
    "\n",
    "series = pd.Series(arr)\n",
    "\n",
    "print(\"Series is:\\n\",series)\n"
   ]
  },
  {
   "cell_type": "markdown",
   "id": "8a73d95e",
   "metadata": {
    "papermill": {
     "duration": 0.002315,
     "end_time": "2023-10-13T13:31:03.452389",
     "exception": false,
     "start_time": "2023-10-13T13:31:03.450074",
     "status": "completed"
    },
    "tags": []
   },
   "source": [
    "* to convert the first column of a DataFrame as a Series"
   ]
  },
  {
   "cell_type": "code",
   "execution_count": 2,
   "id": "138a4f44",
   "metadata": {
    "execution": {
     "iopub.execute_input": "2023-10-13T13:31:03.459407Z",
     "iopub.status.busy": "2023-10-13T13:31:03.458904Z",
     "iopub.status.idle": "2023-10-13T13:31:03.467461Z",
     "shell.execute_reply": "2023-10-13T13:31:03.466571Z"
    },
    "papermill": {
     "duration": 0.014764,
     "end_time": "2023-10-13T13:31:03.469655",
     "exception": false,
     "start_time": "2023-10-13T13:31:03.454891",
     "status": "completed"
    },
    "tags": []
   },
   "outputs": [
    {
     "name": "stdout",
     "output_type": "stream",
     "text": [
      "Convert the first column of dataframe 0    a\n",
      "1    b\n",
      "2    c\n",
      "3    d\n",
      "Name: name, dtype: object\n"
     ]
    }
   ],
   "source": [
    "import pandas as pd\n",
    "\n",
    "\n",
    "dic1 = {\n",
    "    \"name\": [\"a\", \"b\", \"c\", \"d\"],\n",
    "    \"marks\": [10, 20, 30, 40],\n",
    "    \"city\": [\"PBR\", \"MUM\", \"PBR\", \"MUM\"]\n",
    "}\n",
    "\n",
    "df = pd.DataFrame(dic1)\n",
    "col = df.iloc[:, 0]\n",
    "\n",
    "print(\"Convert the first column of dataframe\",col)\n"
   ]
  },
  {
   "cell_type": "markdown",
   "id": "9b5e0d61",
   "metadata": {
    "papermill": {
     "duration": 0.002464,
     "end_time": "2023-10-13T13:31:03.475014",
     "exception": false,
     "start_time": "2023-10-13T13:31:03.472550",
     "status": "completed"
    },
    "tags": []
   },
   "source": [
    "* to create the mean and standard deviation of the data of a given Series"
   ]
  },
  {
   "cell_type": "code",
   "execution_count": 3,
   "id": "97ff0c1c",
   "metadata": {
    "execution": {
     "iopub.execute_input": "2023-10-13T13:31:03.482804Z",
     "iopub.status.busy": "2023-10-13T13:31:03.482417Z",
     "iopub.status.idle": "2023-10-13T13:31:03.493569Z",
     "shell.execute_reply": "2023-10-13T13:31:03.491779Z"
    },
    "papermill": {
     "duration": 0.018312,
     "end_time": "2023-10-13T13:31:03.496421",
     "exception": false,
     "start_time": "2023-10-13T13:31:03.478109",
     "status": "completed"
    },
    "tags": []
   },
   "outputs": [
    {
     "name": "stdout",
     "output_type": "stream",
     "text": [
      "Mean: 5.5\n",
      "Standard Deviation: 3.0276503540974917\n"
     ]
    }
   ],
   "source": [
    "import pandas as pd\n",
    "\n",
    "series = pd.Series([1, 2, 3, 4, 5, 6, 7, 8, 9, 10])\n",
    "\n",
    "mean = series.mean()\n",
    "deviation = series.std()\n",
    "\n",
    "print(\"Mean:\", mean)\n",
    "print(\"Standard Deviation:\", deviation)\n"
   ]
  },
  {
   "cell_type": "markdown",
   "id": "3cb5403b",
   "metadata": {
    "papermill": {
     "duration": 0.003245,
     "end_time": "2023-10-13T13:31:03.502822",
     "exception": false,
     "start_time": "2023-10-13T13:31:03.499577",
     "status": "completed"
    },
    "tags": []
   },
   "source": [
    "* to sort a given Series"
   ]
  },
  {
   "cell_type": "code",
   "execution_count": 4,
   "id": "23833426",
   "metadata": {
    "execution": {
     "iopub.execute_input": "2023-10-13T13:31:03.510238Z",
     "iopub.status.busy": "2023-10-13T13:31:03.509867Z",
     "iopub.status.idle": "2023-10-13T13:31:03.522654Z",
     "shell.execute_reply": "2023-10-13T13:31:03.520885Z"
    },
    "papermill": {
     "duration": 0.02001,
     "end_time": "2023-10-13T13:31:03.525801",
     "exception": false,
     "start_time": "2023-10-13T13:31:03.505791",
     "status": "completed"
    },
    "tags": []
   },
   "outputs": [
    {
     "name": "stdout",
     "output_type": "stream",
     "text": [
      "Sorted Series in ascending order:\n",
      " 1    1\n",
      "3    1\n",
      "6    2\n",
      "0    3\n",
      "9    3\n",
      "2    4\n",
      "4    5\n",
      "8    5\n",
      "7    6\n",
      "5    9\n",
      "dtype: int64\n"
     ]
    }
   ],
   "source": [
    "import pandas as pd\n",
    "\n",
    "series = pd.Series([3, 1, 4, 1, 5, 9, 2, 6, 5, 3])\n",
    "\n",
    "sort = series.sort_values()\n",
    "\n",
    "print(\"Sorted Series in ascending order:\\n\", sort)"
   ]
  }
 ],
 "metadata": {
  "kernelspec": {
   "display_name": "Python 3",
   "language": "python",
   "name": "python3"
  },
  "language_info": {
   "codemirror_mode": {
    "name": "ipython",
    "version": 3
   },
   "file_extension": ".py",
   "mimetype": "text/x-python",
   "name": "python",
   "nbconvert_exporter": "python",
   "pygments_lexer": "ipython3",
   "version": "3.10.12"
  },
  "papermill": {
   "default_parameters": {},
   "duration": 4.845003,
   "end_time": "2023-10-13T13:31:04.255812",
   "environment_variables": {},
   "exception": null,
   "input_path": "__notebook__.ipynb",
   "output_path": "__notebook__.ipynb",
   "parameters": {},
   "start_time": "2023-10-13T13:30:59.410809",
   "version": "2.4.0"
  }
 },
 "nbformat": 4,
 "nbformat_minor": 5
}
