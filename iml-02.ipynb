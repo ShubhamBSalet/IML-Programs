{
 "cells": [
  {
   "cell_type": "markdown",
   "id": "61ec0e8f",
   "metadata": {
    "_cell_guid": "b1076dfc-b9ad-4769-8c92-a6c4dae69d19",
    "_uuid": "8f2839f25d086af736a60e9eeb907d3b93b6e0e5",
    "papermill": {
     "duration": 0.005683,
     "end_time": "2023-09-02T04:27:09.405332",
     "exception": false,
     "start_time": "2023-09-02T04:27:09.399649",
     "status": "completed"
    },
    "tags": []
   },
   "source": [
    "<h2 style=\"color:navy\"><u>Practical : 2</u></h2>"
   ]
  },
  {
   "cell_type": "markdown",
   "id": "7e4646d4",
   "metadata": {
    "papermill": {
     "duration": 0.004657,
     "end_time": "2023-09-02T04:27:09.415203",
     "exception": false,
     "start_time": "2023-09-02T04:27:09.410546",
     "status": "completed"
    },
    "tags": []
   },
   "source": [
    "**<h4><u>Write a NumPy program to implement following operation</u></h4>**"
   ]
  },
  {
   "cell_type": "markdown",
   "id": "33ded777",
   "metadata": {
    "papermill": {
     "duration": 0.005609,
     "end_time": "2023-09-02T04:27:09.426897",
     "exception": false,
     "start_time": "2023-09-02T04:27:09.421288",
     "status": "completed"
    },
    "tags": []
   },
   "source": [
    "* to convert a list of numeric values into a one-dimensional NumPy\n",
    "array"
   ]
  },
  {
   "cell_type": "code",
   "execution_count": 1,
   "id": "5d89b7fc",
   "metadata": {
    "execution": {
     "iopub.execute_input": "2023-09-02T04:27:09.439269Z",
     "iopub.status.busy": "2023-09-02T04:27:09.438918Z",
     "iopub.status.idle": "2023-09-02T04:27:09.452427Z",
     "shell.execute_reply": "2023-09-02T04:27:09.451219Z"
    },
    "jupyter": {
     "source_hidden": true
    },
    "papermill": {
     "duration": 0.021727,
     "end_time": "2023-09-02T04:27:09.454381",
     "exception": false,
     "start_time": "2023-09-02T04:27:09.432654",
     "status": "completed"
    },
    "tags": []
   },
   "outputs": [
    {
     "name": "stdout",
     "output_type": "stream",
     "text": [
      "One Dimensional Array: \n",
      " [10 20 30 40 50]\n"
     ]
    }
   ],
   "source": [
    "import numpy as np;\n",
    "\n",
    "arr = np.array([10,20,30,40,50])\n",
    "print(\"One Dimensional Array: \\n\",arr)"
   ]
  },
  {
   "cell_type": "markdown",
   "id": "2ef7a9fc",
   "metadata": {
    "papermill": {
     "duration": 0.00469,
     "end_time": "2023-09-02T04:27:09.464219",
     "exception": false,
     "start_time": "2023-09-02T04:27:09.459529",
     "status": "completed"
    },
    "tags": []
   },
   "source": [
    "* to create a 3x3 matrix with values ranging from 2 to 10"
   ]
  },
  {
   "cell_type": "code",
   "execution_count": 2,
   "id": "49c95805",
   "metadata": {
    "execution": {
     "iopub.execute_input": "2023-09-02T04:27:09.476099Z",
     "iopub.status.busy": "2023-09-02T04:27:09.475378Z",
     "iopub.status.idle": "2023-09-02T04:27:09.481125Z",
     "shell.execute_reply": "2023-09-02T04:27:09.480110Z"
    },
    "papermill": {
     "duration": 0.013928,
     "end_time": "2023-09-02T04:27:09.483098",
     "exception": false,
     "start_time": "2023-09-02T04:27:09.469170",
     "status": "completed"
    },
    "tags": []
   },
   "outputs": [
    {
     "name": "stdout",
     "output_type": "stream",
     "text": [
      "3x3 Matrix ranging from 2 to 10: \n",
      " [[ 2  3  4]\n",
      " [ 5  6  7]\n",
      " [ 8  9 10]]\n"
     ]
    }
   ],
   "source": [
    "import numpy as np;\n",
    "\n",
    "arr = np.arange(2, 11).reshape(3,3)\n",
    "print(\"3x3 Matrix ranging from 2 to 10: \\n\",arr)"
   ]
  },
  {
   "cell_type": "markdown",
   "id": "3a99698c",
   "metadata": {
    "papermill": {
     "duration": 0.004811,
     "end_time": "2023-09-02T04:27:09.493098",
     "exception": false,
     "start_time": "2023-09-02T04:27:09.488287",
     "status": "completed"
    },
    "tags": []
   },
   "source": [
    "* to append values at the end of an array"
   ]
  },
  {
   "cell_type": "code",
   "execution_count": 3,
   "id": "3a22030d",
   "metadata": {
    "execution": {
     "iopub.execute_input": "2023-09-02T04:27:09.504980Z",
     "iopub.status.busy": "2023-09-02T04:27:09.504320Z",
     "iopub.status.idle": "2023-09-02T04:27:09.509534Z",
     "shell.execute_reply": "2023-09-02T04:27:09.508779Z"
    },
    "papermill": {
     "duration": 0.01342,
     "end_time": "2023-09-02T04:27:09.511503",
     "exception": false,
     "start_time": "2023-09-02T04:27:09.498083",
     "status": "completed"
    },
    "tags": []
   },
   "outputs": [
    {
     "name": "stdout",
     "output_type": "stream",
     "text": [
      "Append items in array: \n",
      " ['a' 'b' 'c' 'd']\n"
     ]
    }
   ],
   "source": [
    "import numpy as np;\n",
    "\n",
    "arr = np.array([\"a\",\"b\",\"c\"])\n",
    "arr = np.append(arr, [\"d\"])\n",
    "print(\"Append items in array: \\n\",arr)"
   ]
  },
  {
   "cell_type": "markdown",
   "id": "a34495e7",
   "metadata": {
    "papermill": {
     "duration": 0.004995,
     "end_time": "2023-09-02T04:27:09.521537",
     "exception": false,
     "start_time": "2023-09-02T04:27:09.516542",
     "status": "completed"
    },
    "tags": []
   },
   "source": [
    "* to create another shape from an array without changing its data(3*2\n",
    "to 2*3)"
   ]
  },
  {
   "cell_type": "code",
   "execution_count": 4,
   "id": "d248006f",
   "metadata": {
    "execution": {
     "iopub.execute_input": "2023-09-02T04:27:09.533612Z",
     "iopub.status.busy": "2023-09-02T04:27:09.532831Z",
     "iopub.status.idle": "2023-09-02T04:27:09.539733Z",
     "shell.execute_reply": "2023-09-02T04:27:09.538608Z"
    },
    "papermill": {
     "duration": 0.015099,
     "end_time": "2023-09-02T04:27:09.541809",
     "exception": false,
     "start_time": "2023-09-02T04:27:09.526710",
     "status": "completed"
    },
    "tags": []
   },
   "outputs": [
    {
     "name": "stdout",
     "output_type": "stream",
     "text": [
      "3x2 Array: \n",
      " [[10 20]\n",
      " [30 40]\n",
      " [50 60]]\n",
      "2x3 Array: \n",
      " [[10 20 30]\n",
      " [40 50 60]]\n"
     ]
    }
   ],
   "source": [
    "import numpy as np;\n",
    "\n",
    "arr = np.array([10,20,30,40,50,60])\n",
    "\n",
    "arr_3x2 = np.reshape(arr,(3,2))\n",
    "arr_2x3 = np.reshape(arr,(2,3))\n",
    "\n",
    "print(\"3x2 Array: \\n\",arr_3x2)\n",
    "print(\"2x3 Array: \\n\",arr_2x3)"
   ]
  }
 ],
 "kernelspec": {
  "display_name": "Python 3",
  "language": "python",
  "name": "python3"
 },
 "language_info": {
  "codemirror_mode": {
   "name": "ipython",
   "version": 3
  },
  "file_extension": ".py",
  "mimetype": "text/x-python",
  "name": "python",
  "nbconvert_exporter": "python",
  "pygments_lexer": "ipython3",
  "version": "3.6.4"
 },
 "metadata": {
  "kernelspec": {
   "display_name": "Python 3",
   "language": "python",
   "name": "python3"
  },
  "language_info": {
   "codemirror_mode": {
    "name": "ipython",
    "version": 3
   },
   "file_extension": ".py",
   "mimetype": "text/x-python",
   "name": "python",
   "nbconvert_exporter": "python",
   "pygments_lexer": "ipython3",
   "version": "3.10.12"
  },
  "papermill": {
   "default_parameters": {},
   "duration": 3.793374,
   "end_time": "2023-09-02T04:27:09.866853",
   "environment_variables": {},
   "exception": null,
   "input_path": "__notebook__.ipynb",
   "output_path": "__notebook__.ipynb",
   "parameters": {},
   "start_time": "2023-09-02T04:27:06.073479",
   "version": "2.4.0"
  }
 },
 "nbformat": 4,
 "nbformat_minor": 5
}
