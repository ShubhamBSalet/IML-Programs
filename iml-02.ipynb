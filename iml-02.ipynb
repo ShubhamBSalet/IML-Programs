{
 "cells": [
  {
   "cell_type": "markdown",
   "id": "5c40fcf0",
   "metadata": {
    "_cell_guid": "b1076dfc-b9ad-4769-8c92-a6c4dae69d19",
    "_uuid": "8f2839f25d086af736a60e9eeb907d3b93b6e0e5",
    "papermill": {
     "duration": 0.004593,
     "end_time": "2023-09-02T04:26:07.346242",
     "exception": false,
     "start_time": "2023-09-02T04:26:07.341649",
     "status": "completed"
    },
    "tags": []
   },
   "source": [
    "<h2 style=\"color:navy\"><u>Practical : 2</u></h2>"
   ]
  },
  {
   "cell_type": "markdown",
   "id": "a5ee9959",
   "metadata": {
    "papermill": {
     "duration": 0.00372,
     "end_time": "2023-09-02T04:26:07.354845",
     "exception": false,
     "start_time": "2023-09-02T04:26:07.351125",
     "status": "completed"
    },
    "tags": []
   },
   "source": [
    "****<h4><u>Write a NumPy program to implement following operation</u></h4>****"
   ]
  },
  {
   "cell_type": "markdown",
   "id": "797c13e1",
   "metadata": {
    "papermill": {
     "duration": 0.003411,
     "end_time": "2023-09-02T04:26:07.362043",
     "exception": false,
     "start_time": "2023-09-02T04:26:07.358632",
     "status": "completed"
    },
    "tags": []
   },
   "source": [
    "* to convert a list of numeric values into a one-dimensional NumPy\n",
    "array"
   ]
  },
  {
   "cell_type": "code",
   "execution_count": 1,
   "id": "c31bb6b1",
   "metadata": {
    "execution": {
     "iopub.execute_input": "2023-09-02T04:26:07.371345Z",
     "iopub.status.busy": "2023-09-02T04:26:07.370978Z",
     "iopub.status.idle": "2023-09-02T04:26:07.387209Z",
     "shell.execute_reply": "2023-09-02T04:26:07.384805Z"
    },
    "jupyter": {
     "source_hidden": true
    },
    "papermill": {
     "duration": 0.024329,
     "end_time": "2023-09-02T04:26:07.390044",
     "exception": false,
     "start_time": "2023-09-02T04:26:07.365715",
     "status": "completed"
    },
    "tags": []
   },
   "outputs": [
    {
     "name": "stdout",
     "output_type": "stream",
     "text": [
      "One Dimensional Array: \n",
      " [10 20 30 40 50]\n"
     ]
    }
   ],
   "source": [
    "import numpy as np;\n",
    "\n",
    "arr = np.array([10,20,30,40,50])\n",
    "print(\"One Dimensional Array: \\n\",arr)"
   ]
  },
  {
   "cell_type": "markdown",
   "id": "240e36d1",
   "metadata": {
    "papermill": {
     "duration": 0.003583,
     "end_time": "2023-09-02T04:26:07.397757",
     "exception": false,
     "start_time": "2023-09-02T04:26:07.394174",
     "status": "completed"
    },
    "tags": []
   },
   "source": [
    "* to create a 3x3 matrix with values ranging from 2 to 10"
   ]
  },
  {
   "cell_type": "code",
   "execution_count": 2,
   "id": "77b6b334",
   "metadata": {
    "execution": {
     "iopub.execute_input": "2023-09-02T04:26:07.408105Z",
     "iopub.status.busy": "2023-09-02T04:26:07.407720Z",
     "iopub.status.idle": "2023-09-02T04:26:07.413161Z",
     "shell.execute_reply": "2023-09-02T04:26:07.412533Z"
    },
    "papermill": {
     "duration": 0.013959,
     "end_time": "2023-09-02T04:26:07.415425",
     "exception": false,
     "start_time": "2023-09-02T04:26:07.401466",
     "status": "completed"
    },
    "tags": []
   },
   "outputs": [
    {
     "name": "stdout",
     "output_type": "stream",
     "text": [
      "3x3 Matrix ranging from 2 to 10: \n",
      " [[ 2  3  4]\n",
      " [ 5  6  7]\n",
      " [ 8  9 10]]\n"
     ]
    }
   ],
   "source": [
    "import numpy as np;\n",
    "\n",
    "arr = np.arange(2, 11).reshape(3,3)\n",
    "print(\"3x3 Matrix ranging from 2 to 10: \\n\",arr)"
   ]
  },
  {
   "cell_type": "markdown",
   "id": "09743b18",
   "metadata": {
    "papermill": {
     "duration": 0.003594,
     "end_time": "2023-09-02T04:26:07.423132",
     "exception": false,
     "start_time": "2023-09-02T04:26:07.419538",
     "status": "completed"
    },
    "tags": []
   },
   "source": [
    "* to append values at the end of an array"
   ]
  },
  {
   "cell_type": "code",
   "execution_count": 3,
   "id": "a2d509d4",
   "metadata": {
    "execution": {
     "iopub.execute_input": "2023-09-02T04:26:07.432473Z",
     "iopub.status.busy": "2023-09-02T04:26:07.432152Z",
     "iopub.status.idle": "2023-09-02T04:26:07.437470Z",
     "shell.execute_reply": "2023-09-02T04:26:07.436132Z"
    },
    "papermill": {
     "duration": 0.012595,
     "end_time": "2023-09-02T04:26:07.439527",
     "exception": false,
     "start_time": "2023-09-02T04:26:07.426932",
     "status": "completed"
    },
    "tags": []
   },
   "outputs": [
    {
     "name": "stdout",
     "output_type": "stream",
     "text": [
      "Append items in array: \n",
      " ['a' 'b' 'c' 'd']\n"
     ]
    }
   ],
   "source": [
    "import numpy as np;\n",
    "\n",
    "arr = np.array([\"a\",\"b\",\"c\"])\n",
    "arr = np.append(arr, [\"d\"])\n",
    "print(\"Append items in array: \\n\",arr)"
   ]
  },
  {
   "cell_type": "markdown",
   "id": "c4cd885e",
   "metadata": {
    "papermill": {
     "duration": 0.003557,
     "end_time": "2023-09-02T04:26:07.447243",
     "exception": false,
     "start_time": "2023-09-02T04:26:07.443686",
     "status": "completed"
    },
    "tags": []
   },
   "source": [
    "* to create another shape from an array without changing its data(3*2\n",
    "to 2*3)"
   ]
  },
  {
   "cell_type": "code",
   "execution_count": 4,
   "id": "c7cec8fb",
   "metadata": {
    "execution": {
     "iopub.execute_input": "2023-09-02T04:26:07.456799Z",
     "iopub.status.busy": "2023-09-02T04:26:07.456142Z",
     "iopub.status.idle": "2023-09-02T04:26:07.462941Z",
     "shell.execute_reply": "2023-09-02T04:26:07.461653Z"
    },
    "papermill": {
     "duration": 0.013942,
     "end_time": "2023-09-02T04:26:07.464961",
     "exception": false,
     "start_time": "2023-09-02T04:26:07.451019",
     "status": "completed"
    },
    "tags": []
   },
   "outputs": [
    {
     "name": "stdout",
     "output_type": "stream",
     "text": [
      "3x2 Array: \n",
      " [[10 20]\n",
      " [30 40]\n",
      " [50 60]]\n",
      "2x3 Array: \n",
      " [[10 20 30]\n",
      " [40 50 60]]\n"
     ]
    }
   ],
   "source": [
    "import numpy as np;\n",
    "\n",
    "arr = np.array([10,20,30,40,50,60])\n",
    "\n",
    "arr_3x2 = np.reshape(arr,(3,2))\n",
    "arr_2x3 = np.reshape(arr,(2,3))\n",
    "\n",
    "print(\"3x2 Array: \\n\",arr_3x2)\n",
    "print(\"2x3 Array: \\n\",arr_2x3)"
   ]
  }
 ],
 "kernelspec": {
  "display_name": "Python 3",
  "language": "python",
  "name": "python3"
 },
 "language_info": {
  "codemirror_mode": {
   "name": "ipython",
   "version": 3
  },
  "file_extension": ".py",
  "mimetype": "text/x-python",
  "name": "python",
  "nbconvert_exporter": "python",
  "pygments_lexer": "ipython3",
  "version": "3.6.4"
 },
 "metadata": {
  "kernelspec": {
   "display_name": "Python 3",
   "language": "python",
   "name": "python3"
  },
  "language_info": {
   "codemirror_mode": {
    "name": "ipython",
    "version": 3
   },
   "file_extension": ".py",
   "mimetype": "text/x-python",
   "name": "python",
   "nbconvert_exporter": "python",
   "pygments_lexer": "ipython3",
   "version": "3.10.12"
  },
  "papermill": {
   "default_parameters": {},
   "duration": 3.396571,
   "end_time": "2023-09-02T04:26:07.789322",
   "environment_variables": {},
   "exception": null,
   "input_path": "__notebook__.ipynb",
   "output_path": "__notebook__.ipynb",
   "parameters": {},
   "start_time": "2023-09-02T04:26:04.392751",
   "version": "2.4.0"
  }
 },
 "nbformat": 4,
 "nbformat_minor": 5
}
