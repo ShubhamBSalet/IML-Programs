{
 "cells": [
  {
   "cell_type": "markdown",
   "id": "a8cbe294",
   "metadata": {
    "_cell_guid": "b1076dfc-b9ad-4769-8c92-a6c4dae69d19",
    "_uuid": "8f2839f25d086af736a60e9eeb907d3b93b6e0e5",
    "papermill": {
     "duration": 0.00234,
     "end_time": "2023-10-13T13:24:06.189430",
     "exception": false,
     "start_time": "2023-10-13T13:24:06.187090",
     "status": "completed"
    },
    "tags": []
   },
   "source": [
    "<h2 style=\"color:navy\"><u>Practical : 10</u></h2>"
   ]
  },
  {
   "cell_type": "markdown",
   "id": "8ec3de98",
   "metadata": {
    "papermill": {
     "duration": 0.001526,
     "end_time": "2023-10-13T13:24:06.192941",
     "exception": false,
     "start_time": "2023-10-13T13:24:06.191415",
     "status": "completed"
    },
    "tags": []
   },
   "source": [
    "**<h4><u>Write a Pandas program to implement following operation</u></h4>**"
   ]
  },
  {
   "cell_type": "markdown",
   "id": "cf721542",
   "metadata": {
    "papermill": {
     "duration": 0.001489,
     "end_time": "2023-10-13T13:24:06.197928",
     "exception": false,
     "start_time": "2023-10-13T13:24:06.196439",
     "status": "completed"
    },
    "tags": []
   },
   "source": [
    "* to find and drop the missing values from the given dataset"
   ]
  },
  {
   "cell_type": "code",
   "execution_count": 1,
   "id": "ed2dcb41",
   "metadata": {
    "execution": {
     "iopub.execute_input": "2023-10-13T13:24:06.203332Z",
     "iopub.status.busy": "2023-10-13T13:24:06.202933Z",
     "iopub.status.idle": "2023-10-13T13:24:07.067063Z",
     "shell.execute_reply": "2023-10-13T13:24:07.066033Z"
    },
    "papermill": {
     "duration": 0.869771,
     "end_time": "2023-10-13T13:24:07.069387",
     "exception": false,
     "start_time": "2023-10-13T13:24:06.199616",
     "status": "completed"
    },
    "tags": []
   },
   "outputs": [
    {
     "name": "stdout",
     "output_type": "stream",
     "text": [
      "         Date      Open      High       Low     Close  Adj Close    Volume\n",
      "0  2010-01-04  7.931429  7.961429  7.565714  7.640000   7.640000  17239600\n",
      "1  2010-01-05  7.652857  7.657143  7.258571  7.358571   7.358571  23753100\n",
      "2  2010-01-06  7.361429  7.672857  7.197143  7.617143   7.617143  23290400\n",
      "3  2010-01-07  7.731429  7.757143  7.462857  7.485714   7.485714   9955400\n",
      "4  2010-01-08  7.498571  7.742857  7.465714  7.614286   7.614286   8180900\n",
      "There are no missing values\n"
     ]
    }
   ],
   "source": [
    "# Name: Salet Shubham B.\n",
    "# Enrollment: 216270307030\n",
    "\n",
    "import pandas as pd\n",
    "\n",
    "df = pd.read_csv('/kaggle/input/tesla-data3/NFLX.csv')\n",
    "\n",
    "col = ['Open', 'High', 'Low', 'Close', 'Adj Close', 'Volume']\n",
    "missing_data = df[col].isna().any()\n",
    "\n",
    "df.dropna(subset=col, inplace=True)\n",
    "\n",
    "print(df.head(5))\n",
    "\n",
    "if missing_data.any():\n",
    "    print(\"There are missing values\")\n",
    "    print(missing_data)\n",
    "else:\n",
    "    print(\"There are no missing values\")"
   ]
  },
  {
   "cell_type": "markdown",
   "id": "dab81302",
   "metadata": {
    "papermill": {
     "duration": 0.001888,
     "end_time": "2023-10-13T13:24:07.073469",
     "exception": false,
     "start_time": "2023-10-13T13:24:07.071581",
     "status": "completed"
    },
    "tags": []
   },
   "source": [
    "* to remove the duplicates from the given dataset"
   ]
  },
  {
   "cell_type": "code",
   "execution_count": 2,
   "id": "039123cf",
   "metadata": {
    "execution": {
     "iopub.execute_input": "2023-10-13T13:24:07.079500Z",
     "iopub.status.busy": "2023-10-13T13:24:07.078612Z",
     "iopub.status.idle": "2023-10-13T13:24:07.108456Z",
     "shell.execute_reply": "2023-10-13T13:24:07.107595Z"
    },
    "papermill": {
     "duration": 0.034999,
     "end_time": "2023-10-13T13:24:07.110376",
     "exception": false,
     "start_time": "2023-10-13T13:24:07.075377",
     "status": "completed"
    },
    "tags": []
   },
   "outputs": [
    {
     "name": "stdout",
     "output_type": "stream",
     "text": [
      "            Date        Open        High         Low       Close   Adj Close  \\\n",
      "0     2010-01-04    7.931429    7.961429    7.565714    7.640000    7.640000   \n",
      "1     2010-01-05    7.652857    7.657143    7.258571    7.358571    7.358571   \n",
      "2     2010-01-06    7.361429    7.672857    7.197143    7.617143    7.617143   \n",
      "3     2010-01-07    7.731429    7.757143    7.462857    7.485714    7.485714   \n",
      "4     2010-01-08    7.498571    7.742857    7.465714    7.614286    7.614286   \n",
      "...          ...         ...         ...         ...         ...         ...   \n",
      "3114  2022-05-17  189.169998  191.399994  185.169998  190.559998  190.559998   \n",
      "3115  2022-05-18  186.720001  187.699997  176.270004  177.190002  177.190002   \n",
      "3116  2022-05-19  178.050003  186.300003  175.710007  183.479996  183.479996   \n",
      "3117  2022-05-20  185.869995  190.190002  179.770004  186.350006  186.350006   \n",
      "3118  2022-05-23  186.149994  187.660004  177.889999  187.440002  187.440002   \n",
      "\n",
      "        Volume  \n",
      "0     17239600  \n",
      "1     23753100  \n",
      "2     23290400  \n",
      "3      9955400  \n",
      "4      8180900  \n",
      "...        ...  \n",
      "3114   9876700  \n",
      "3115   9665600  \n",
      "3116  10448500  \n",
      "3117  10422600  \n",
      "3118   9558000  \n",
      "\n",
      "[3119 rows x 7 columns]\n"
     ]
    }
   ],
   "source": [
    "# Name: Salet Shubham B.\n",
    "# Enrollment: 216270307030\n",
    "\n",
    "import pandas as pd\n",
    "\n",
    "df = pd.read_csv('/kaggle/input/tesla-data3/NFLX.csv')\n",
    "\n",
    "df.drop_duplicates(inplace=True)\n",
    "\n",
    "print(df)\n"
   ]
  }
 ],
 "metadata": {
  "kernelspec": {
   "display_name": "Python 3",
   "language": "python",
   "name": "python3"
  },
  "language_info": {
   "codemirror_mode": {
    "name": "ipython",
    "version": 3
   },
   "file_extension": ".py",
   "mimetype": "text/x-python",
   "name": "python",
   "nbconvert_exporter": "python",
   "pygments_lexer": "ipython3",
   "version": "3.10.12"
  },
  "papermill": {
   "default_parameters": {},
   "duration": 5.444545,
   "end_time": "2023-10-13T13:24:07.531248",
   "environment_variables": {},
   "exception": null,
   "input_path": "__notebook__.ipynb",
   "output_path": "__notebook__.ipynb",
   "parameters": {},
   "start_time": "2023-10-13T13:24:02.086703",
   "version": "2.4.0"
  }
 },
 "nbformat": 4,
 "nbformat_minor": 5
}
