{
 "cells": [
  {
   "cell_type": "markdown",
   "id": "f1e4b043",
   "metadata": {
    "_cell_guid": "b1076dfc-b9ad-4769-8c92-a6c4dae69d19",
    "_uuid": "8f2839f25d086af736a60e9eeb907d3b93b6e0e5",
    "papermill": {
     "duration": 0.004701,
     "end_time": "2023-10-13T13:34:30.157227",
     "exception": false,
     "start_time": "2023-10-13T13:34:30.152526",
     "status": "completed"
    },
    "tags": []
   },
   "source": [
    "<h2 style=\"color:navy\"><u>Practical : 7</u></h2>"
   ]
  },
  {
   "cell_type": "markdown",
   "id": "f6bd425a",
   "metadata": {
    "papermill": {
     "duration": 0.005511,
     "end_time": "2023-10-13T13:34:30.166178",
     "exception": false,
     "start_time": "2023-10-13T13:34:30.160667",
     "status": "completed"
    },
    "tags": []
   },
   "source": [
    "**<h4><u>Write a Pandas program to implement following operation</u></h4>**"
   ]
  },
  {
   "cell_type": "markdown",
   "id": "b9b3431e",
   "metadata": {
    "papermill": {
     "duration": 0.002691,
     "end_time": "2023-10-13T13:34:30.172465",
     "exception": false,
     "start_time": "2023-10-13T13:34:30.169774",
     "status": "completed"
    },
    "tags": []
   },
   "source": [
    "* to create a dataframe from a dictionary and display it"
   ]
  },
  {
   "cell_type": "code",
   "execution_count": 1,
   "id": "59c9efac",
   "metadata": {
    "execution": {
     "iopub.execute_input": "2023-10-13T13:34:30.180615Z",
     "iopub.status.busy": "2023-10-13T13:34:30.180067Z",
     "iopub.status.idle": "2023-10-13T13:34:30.702632Z",
     "shell.execute_reply": "2023-10-13T13:34:30.700356Z"
    },
    "papermill": {
     "duration": 0.530147,
     "end_time": "2023-10-13T13:34:30.705568",
     "exception": false,
     "start_time": "2023-10-13T13:34:30.175421",
     "status": "completed"
    },
    "tags": []
   },
   "outputs": [
    {
     "name": "stdout",
     "output_type": "stream",
     "text": [
      "Convert Dictonary to Dataframe:\n",
      "   name  marks\n",
      "0    A     10\n",
      "1    B     20\n",
      "2    C     30\n"
     ]
    }
   ],
   "source": [
    "import pandas as pd\n",
    "\n",
    "dic = {\n",
    "    \"name\": [\"A\", \"B\", \"C\"],\n",
    "    \"marks\": [10, 20, 30]\n",
    "}\n",
    "\n",
    "print(\"Convert Dictonary to Dataframe:\\n\",pd.DataFrame(dic))"
   ]
  },
  {
   "cell_type": "markdown",
   "id": "a75d5d4e",
   "metadata": {
    "papermill": {
     "duration": 0.002702,
     "end_time": "2023-10-13T13:34:30.711677",
     "exception": false,
     "start_time": "2023-10-13T13:34:30.708975",
     "status": "completed"
    },
    "tags": []
   },
   "source": [
    "* to sort the DataFrame first by 'name' in ascending order"
   ]
  },
  {
   "cell_type": "code",
   "execution_count": 2,
   "id": "8b7ff7f5",
   "metadata": {
    "execution": {
     "iopub.execute_input": "2023-10-13T13:34:30.722017Z",
     "iopub.status.busy": "2023-10-13T13:34:30.721391Z",
     "iopub.status.idle": "2023-10-13T13:34:30.742845Z",
     "shell.execute_reply": "2023-10-13T13:34:30.741146Z"
    },
    "papermill": {
     "duration": 0.030671,
     "end_time": "2023-10-13T13:34:30.746278",
     "exception": false,
     "start_time": "2023-10-13T13:34:30.715607",
     "status": "completed"
    },
    "tags": []
   },
   "outputs": [
    {
     "name": "stdout",
     "output_type": "stream",
     "text": [
      "Original DataFrame\n",
      "       name  marks\n",
      "0  Shubham    100\n",
      "1    Salet    100\n",
      "2     None      0\n",
      "\n",
      "After sorting :\n",
      "       name  marks\n",
      "2     None      0\n",
      "1    Salet    100\n",
      "0  Shubham    100\n"
     ]
    }
   ],
   "source": [
    "import pandas as pd\n",
    "\n",
    "dic = {\n",
    "    \"name\": [\"Shubham\", \"Salet\", \"None\"],\n",
    "    \"marks\": [100, 100, 0]\n",
    "}\n",
    "\n",
    "arr = pd.DataFrame(dic)\n",
    "print(\"Original DataFrame\\n\", arr)\n",
    "\n",
    "print()\n",
    "sort = arr.sort_values(by=['name'], ascending=True)\n",
    "print(\"After sorting :\\n\", sort)"
   ]
  },
  {
   "cell_type": "markdown",
   "id": "c13184f6",
   "metadata": {
    "papermill": {
     "duration": 0.002744,
     "end_time": "2023-10-13T13:34:30.752275",
     "exception": false,
     "start_time": "2023-10-13T13:34:30.749531",
     "status": "completed"
    },
    "tags": []
   },
   "source": [
    "* to delete the one specific column from the DataFrame"
   ]
  },
  {
   "cell_type": "code",
   "execution_count": 3,
   "id": "2afb6ae8",
   "metadata": {
    "execution": {
     "iopub.execute_input": "2023-10-13T13:34:30.761111Z",
     "iopub.status.busy": "2023-10-13T13:34:30.760531Z",
     "iopub.status.idle": "2023-10-13T13:34:30.777280Z",
     "shell.execute_reply": "2023-10-13T13:34:30.775713Z"
    },
    "papermill": {
     "duration": 0.024363,
     "end_time": "2023-10-13T13:34:30.779814",
     "exception": false,
     "start_time": "2023-10-13T13:34:30.755451",
     "status": "completed"
    },
    "tags": []
   },
   "outputs": [
    {
     "name": "stdout",
     "output_type": "stream",
     "text": [
      "Original DataFrame\n",
      "       name  marks\n",
      "0  Shubham    100\n",
      "1    Salet    100\n",
      "2     None      0\n",
      "\n",
      "After delete marks column DataFrame\n",
      "       name\n",
      "0  Shubham\n",
      "1    Salet\n",
      "2     None\n"
     ]
    }
   ],
   "source": [
    "import pandas as pd\n",
    "\n",
    "dic = {\n",
    "    \"name\": [\"Shubham\", \"Salet\", \"None\"],\n",
    "    \"marks\": [100, 100, 0]\n",
    "}\n",
    "\n",
    "arr = pd.DataFrame(dic)\n",
    "print(\"Original DataFrame\\n\", arr)\n",
    "\n",
    "print()\n",
    "arr = arr.drop(columns = [\"marks\"])\n",
    "print(\"After delete marks column DataFrame\\n\", arr)"
   ]
  },
  {
   "cell_type": "markdown",
   "id": "566da932",
   "metadata": {
    "papermill": {
     "duration": 0.003486,
     "end_time": "2023-10-13T13:34:30.786627",
     "exception": false,
     "start_time": "2023-10-13T13:34:30.783141",
     "status": "completed"
    },
    "tags": []
   },
   "source": [
    "* to write a DataFrame to CSV file using tab separator"
   ]
  },
  {
   "cell_type": "code",
   "execution_count": 4,
   "id": "1b6f2dcc",
   "metadata": {
    "execution": {
     "iopub.execute_input": "2023-10-13T13:34:30.795779Z",
     "iopub.status.busy": "2023-10-13T13:34:30.795293Z",
     "iopub.status.idle": "2023-10-13T13:34:30.820400Z",
     "shell.execute_reply": "2023-10-13T13:34:30.818334Z"
    },
    "papermill": {
     "duration": 0.033365,
     "end_time": "2023-10-13T13:34:30.823591",
     "exception": false,
     "start_time": "2023-10-13T13:34:30.790226",
     "status": "completed"
    },
    "tags": []
   },
   "outputs": [
    {
     "name": "stdout",
     "output_type": "stream",
     "text": [
      "  name  marks city\n",
      "0    a     10  PBR\n",
      "1    b     20  MUM\n",
      "2    c     30  PBR\n",
      "3    d     40  MUM\n"
     ]
    }
   ],
   "source": [
    "import pandas as pd\n",
    "\n",
    "arr = pd.read_csv(\"/kaggle/input/emp-data/emp.csv\")\n",
    "print(arr)\n"
   ]
  }
 ],
 "metadata": {
  "kernelspec": {
   "display_name": "Python 3",
   "language": "python",
   "name": "python3"
  },
  "language_info": {
   "codemirror_mode": {
    "name": "ipython",
    "version": 3
   },
   "file_extension": ".py",
   "mimetype": "text/x-python",
   "name": "python",
   "nbconvert_exporter": "python",
   "pygments_lexer": "ipython3",
   "version": "3.10.12"
  },
  "papermill": {
   "default_parameters": {},
   "duration": 4.804964,
   "end_time": "2023-10-13T13:34:31.551027",
   "environment_variables": {},
   "exception": null,
   "input_path": "__notebook__.ipynb",
   "output_path": "__notebook__.ipynb",
   "parameters": {},
   "start_time": "2023-10-13T13:34:26.746063",
   "version": "2.4.0"
  }
 },
 "nbformat": 4,
 "nbformat_minor": 5
}
