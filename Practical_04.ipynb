{
 "cells": [
  {
   "cell_type": "markdown",
   "id": "bb1573a4",
   "metadata": {
    "_cell_guid": "b1076dfc-b9ad-4769-8c92-a6c4dae69d19",
    "_uuid": "8f2839f25d086af736a60e9eeb907d3b93b6e0e5",
    "papermill": {
     "duration": 0.003537,
     "end_time": "2023-10-13T13:28:06.629533",
     "exception": false,
     "start_time": "2023-10-13T13:28:06.625996",
     "status": "completed"
    },
    "tags": []
   },
   "source": [
    "<h2 style=\"color:navy\"><u>Practical : 4</u></h2>"
   ]
  },
  {
   "cell_type": "markdown",
   "id": "bcc0ad51",
   "metadata": {
    "papermill": {
     "duration": 0.004912,
     "end_time": "2023-10-13T13:28:06.637478",
     "exception": false,
     "start_time": "2023-10-13T13:28:06.632566",
     "status": "completed"
    },
    "tags": []
   },
   "source": [
    "**<h4><u>Write a NumPy program to implement following operation</u></h4>**"
   ]
  },
  {
   "cell_type": "markdown",
   "id": "7786ac93",
   "metadata": {
    "papermill": {
     "duration": 0.002314,
     "end_time": "2023-10-13T13:28:06.642558",
     "exception": false,
     "start_time": "2023-10-13T13:28:06.640244",
     "status": "completed"
    },
    "tags": []
   },
   "source": [
    "* to add, subtract, multiply, divide arguments element-wise"
   ]
  },
  {
   "cell_type": "code",
   "execution_count": 1,
   "id": "69d4de64",
   "metadata": {
    "execution": {
     "iopub.execute_input": "2023-10-13T13:28:06.649616Z",
     "iopub.status.busy": "2023-10-13T13:28:06.649277Z",
     "iopub.status.idle": "2023-10-13T13:28:06.663576Z",
     "shell.execute_reply": "2023-10-13T13:28:06.662563Z"
    },
    "papermill": {
     "duration": 0.020528,
     "end_time": "2023-10-13T13:28:06.665659",
     "exception": false,
     "start_time": "2023-10-13T13:28:06.645131",
     "status": "completed"
    },
    "tags": []
   },
   "outputs": [
    {
     "name": "stdout",
     "output_type": "stream",
     "text": [
      "Addition:  [50 70 90]\n",
      "Subtraction:  [-30 -30 -30]\n",
      "Multiplication:  [ 400 1000 1800]\n",
      "Division:  [0.25 0.4  0.5 ]\n"
     ]
    }
   ],
   "source": [
    "import numpy as np;\n",
    "\n",
    "arr1 = np.array([10,20,30])\n",
    "arr2 = np.array([40,50,60])\n",
    "\n",
    "print(\"Addition: \",np.add(arr1,arr2))\n",
    "print(\"Subtraction: \",np.subtract(arr1,arr2))\n",
    "print(\"Multiplication: \",np.multiply(arr1,arr2))\n",
    "print(\"Division: \",np.divide(arr1,arr2))"
   ]
  },
  {
   "cell_type": "markdown",
   "id": "7c4989d4",
   "metadata": {
    "papermill": {
     "duration": 0.002362,
     "end_time": "2023-10-13T13:28:06.670952",
     "exception": false,
     "start_time": "2023-10-13T13:28:06.668590",
     "status": "completed"
    },
    "tags": []
   },
   "source": [
    "* to round elements of the array to the nearest integer"
   ]
  },
  {
   "cell_type": "code",
   "execution_count": 2,
   "id": "90d5b4e7",
   "metadata": {
    "execution": {
     "iopub.execute_input": "2023-10-13T13:28:06.678096Z",
     "iopub.status.busy": "2023-10-13T13:28:06.677571Z",
     "iopub.status.idle": "2023-10-13T13:28:06.683432Z",
     "shell.execute_reply": "2023-10-13T13:28:06.682208Z"
    },
    "papermill": {
     "duration": 0.011889,
     "end_time": "2023-10-13T13:28:06.685377",
     "exception": false,
     "start_time": "2023-10-13T13:28:06.673488",
     "status": "completed"
    },
    "tags": []
   },
   "outputs": [
    {
     "name": "stdout",
     "output_type": "stream",
     "text": [
      "Rounded element becomes:  5.0\n",
      "Rounded element becomes:  5.0\n",
      "Rounded element becomes:  6.0\n",
      "Rounded element becomes:  6.0\n",
      "Rounded element becomes:  6.0\n"
     ]
    }
   ],
   "source": [
    "import numpy as np;\n",
    "\n",
    "arr = np.array([5.1, 5.3, 5.5, 5.6, 5.9])\n",
    "for a in arr:\n",
    "    print(\"Rounded element becomes: \",np.round(a))"
   ]
  },
  {
   "cell_type": "markdown",
   "id": "efda6dee",
   "metadata": {
    "papermill": {
     "duration": 0.002373,
     "end_time": "2023-10-13T13:28:06.690439",
     "exception": false,
     "start_time": "2023-10-13T13:28:06.688066",
     "status": "completed"
    },
    "tags": []
   },
   "source": [
    "* to calculate mean across dimension, in a 2D numpy array"
   ]
  },
  {
   "cell_type": "code",
   "execution_count": 3,
   "id": "3b244245",
   "metadata": {
    "execution": {
     "iopub.execute_input": "2023-10-13T13:28:06.697673Z",
     "iopub.status.busy": "2023-10-13T13:28:06.697003Z",
     "iopub.status.idle": "2023-10-13T13:28:06.704513Z",
     "shell.execute_reply": "2023-10-13T13:28:06.703006Z"
    },
    "papermill": {
     "duration": 0.014221,
     "end_time": "2023-10-13T13:28:06.707006",
     "exception": false,
     "start_time": "2023-10-13T13:28:06.692785",
     "status": "completed"
    },
    "tags": []
   },
   "outputs": [
    {
     "name": "stdout",
     "output_type": "stream",
     "text": [
      "[20. 50. 80.]\n",
      "[40. 50. 60.]\n"
     ]
    }
   ],
   "source": [
    "import numpy as np;\n",
    "\n",
    "arr = np.array([[10,20,30],\n",
    "                [40,50,60],\n",
    "                [70,80,90]])\n",
    "\n",
    "col = np.mean(arr, axis=0)\n",
    "row = np.mean(arr, axis=1)\n",
    "\n",
    "print(row)\n",
    "print(col)"
   ]
  },
  {
   "cell_type": "markdown",
   "id": "80965dfa",
   "metadata": {
    "papermill": {
     "duration": 0.002847,
     "end_time": "2023-10-13T13:28:06.712972",
     "exception": false,
     "start_time": "2023-10-13T13:28:06.710125",
     "status": "completed"
    },
    "tags": []
   },
   "source": [
    "* to calculate the difference between neighboring elements, element-wise of a given array"
   ]
  },
  {
   "cell_type": "code",
   "execution_count": 4,
   "id": "01736776",
   "metadata": {
    "execution": {
     "iopub.execute_input": "2023-10-13T13:28:06.720817Z",
     "iopub.status.busy": "2023-10-13T13:28:06.720122Z",
     "iopub.status.idle": "2023-10-13T13:28:06.726732Z",
     "shell.execute_reply": "2023-10-13T13:28:06.725607Z"
    },
    "papermill": {
     "duration": 0.013262,
     "end_time": "2023-10-13T13:28:06.729051",
     "exception": false,
     "start_time": "2023-10-13T13:28:06.715789",
     "status": "completed"
    },
    "tags": []
   },
   "outputs": [
    {
     "name": "stdout",
     "output_type": "stream",
     "text": [
      "Diffrence between elements are:  [11 -9  1  1]\n"
     ]
    }
   ],
   "source": [
    "import numpy as np;\n",
    "\n",
    "arr = np.array([1,12,3,4,5])\n",
    "\n",
    "diff = np.diff(arr)\n",
    "print(\"Diffrence between elements are: \",diff)"
   ]
  }
 ],
 "metadata": {
  "kernelspec": {
   "display_name": "Python 3",
   "language": "python",
   "name": "python3"
  },
  "language_info": {
   "codemirror_mode": {
    "name": "ipython",
    "version": 3
   },
   "file_extension": ".py",
   "mimetype": "text/x-python",
   "name": "python",
   "nbconvert_exporter": "python",
   "pygments_lexer": "ipython3",
   "version": "3.10.12"
  },
  "papermill": {
   "default_parameters": {},
   "duration": 3.766654,
   "end_time": "2023-10-13T13:28:07.253218",
   "environment_variables": {},
   "exception": null,
   "input_path": "__notebook__.ipynb",
   "output_path": "__notebook__.ipynb",
   "parameters": {},
   "start_time": "2023-10-13T13:28:03.486564",
   "version": "2.4.0"
  }
 },
 "nbformat": 4,
 "nbformat_minor": 5
}
