{
 "cells": [
  {
   "cell_type": "markdown",
   "id": "de095b14",
   "metadata": {
    "_cell_guid": "b1076dfc-b9ad-4769-8c92-a6c4dae69d19",
    "_uuid": "8f2839f25d086af736a60e9eeb907d3b93b6e0e5",
    "papermill": {
     "duration": 0.005404,
     "end_time": "2023-09-02T05:01:18.651819",
     "exception": false,
     "start_time": "2023-09-02T05:01:18.646415",
     "status": "completed"
    },
    "tags": []
   },
   "source": [
    "<h2 style=\"color:navy\"><u>Practical : 3</u></h2>"
   ]
  },
  {
   "cell_type": "markdown",
   "id": "b4b9bfa1",
   "metadata": {
    "papermill": {
     "duration": 0.003858,
     "end_time": "2023-09-02T05:01:18.660117",
     "exception": false,
     "start_time": "2023-09-02T05:01:18.656259",
     "status": "completed"
    },
    "tags": []
   },
   "source": [
    "**<h4><u>Write a NumPy program to implement following operation</u></h4>**"
   ]
  },
  {
   "cell_type": "markdown",
   "id": "9f019187",
   "metadata": {
    "papermill": {
     "duration": 0.003922,
     "end_time": "2023-09-02T05:01:18.668272",
     "exception": false,
     "start_time": "2023-09-02T05:01:18.664350",
     "status": "completed"
    },
    "tags": []
   },
   "source": [
    "* to split an array of 14 elements into 3 arrays, each with 2, 4, and 8\n",
    "elements in the original order"
   ]
  },
  {
   "cell_type": "code",
   "execution_count": 1,
   "id": "683ef4eb",
   "metadata": {
    "execution": {
     "iopub.execute_input": "2023-09-02T05:01:18.678437Z",
     "iopub.status.busy": "2023-09-02T05:01:18.678042Z",
     "iopub.status.idle": "2023-09-02T05:01:18.692708Z",
     "shell.execute_reply": "2023-09-02T05:01:18.691707Z"
    },
    "papermill": {
     "duration": 0.023011,
     "end_time": "2023-09-02T05:01:18.695399",
     "exception": false,
     "start_time": "2023-09-02T05:01:18.672388",
     "status": "completed"
    },
    "tags": []
   },
   "outputs": [
    {
     "name": "stdout",
     "output_type": "stream",
     "text": [
      "Split an array: \n",
      " [array([1, 2]), array([3, 4, 5, 6]), array([ 7,  8,  9, 10, 11, 12, 13, 14])]\n"
     ]
    }
   ],
   "source": [
    "import numpy as np;\n",
    "\n",
    "arr = np.array([1, 2, 3, 4, 5, 6, 7, 8, 9, 10, 11, 12, 13, 14])\n",
    "result = np.array_split(arr, [2, 6])\n",
    "print(\"Split an array: \\n\",result)"
   ]
  },
  {
   "cell_type": "markdown",
   "id": "14756c96",
   "metadata": {
    "papermill": {
     "duration": 0.003979,
     "end_time": "2023-09-02T05:01:18.704331",
     "exception": false,
     "start_time": "2023-09-02T05:01:18.700352",
     "status": "completed"
    },
    "tags": []
   },
   "source": [
    "* to stack arrays horizontally (column wise)"
   ]
  },
  {
   "cell_type": "code",
   "execution_count": 2,
   "id": "7a1c8687",
   "metadata": {
    "execution": {
     "iopub.execute_input": "2023-09-02T05:01:18.714782Z",
     "iopub.status.busy": "2023-09-02T05:01:18.714388Z",
     "iopub.status.idle": "2023-09-02T05:01:18.721171Z",
     "shell.execute_reply": "2023-09-02T05:01:18.719797Z"
    },
    "papermill": {
     "duration": 0.014867,
     "end_time": "2023-09-02T05:01:18.723426",
     "exception": false,
     "start_time": "2023-09-02T05:01:18.708559",
     "status": "completed"
    },
    "tags": []
   },
   "outputs": [
    {
     "name": "stdout",
     "output_type": "stream",
     "text": [
      "[[1, 4, 7], [2, 5, 8], [3, 6, 9]]\n"
     ]
    }
   ],
   "source": [
    "array1 = [1, 2, 3]\n",
    "array2 = [4, 5, 6]\n",
    "array3 = [7, 8, 9]\n",
    "\n",
    "result = [list(column) for column in zip(array1, array2, array3)]\n",
    "\n",
    "print(result)"
   ]
  }
 ],
 "kernelspec": {
  "display_name": "Python 3",
  "language": "python",
  "name": "python3"
 },
 "language_info": {
  "codemirror_mode": {
   "name": "ipython",
   "version": 3
  },
  "file_extension": ".py",
  "mimetype": "text/x-python",
  "name": "python",
  "nbconvert_exporter": "python",
  "pygments_lexer": "ipython3",
  "version": "3.6.4"
 },
 "metadata": {
  "kernelspec": {
   "display_name": "Python 3",
   "language": "python",
   "name": "python3"
  },
  "language_info": {
   "codemirror_mode": {
    "name": "ipython",
    "version": 3
   },
   "file_extension": ".py",
   "mimetype": "text/x-python",
   "name": "python",
   "nbconvert_exporter": "python",
   "pygments_lexer": "ipython3",
   "version": "3.10.12"
  },
  "papermill": {
   "default_parameters": {},
   "duration": 4.675557,
   "end_time": "2023-09-02T05:01:19.046381",
   "environment_variables": {},
   "exception": null,
   "input_path": "__notebook__.ipynb",
   "output_path": "__notebook__.ipynb",
   "parameters": {},
   "start_time": "2023-09-02T05:01:14.370824",
   "version": "2.4.0"
  }
 },
 "nbformat": 4,
 "nbformat_minor": 5
}
