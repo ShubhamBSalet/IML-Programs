{
 "cells": [
  {
   "cell_type": "markdown",
   "id": "528aa781",
   "metadata": {
    "_cell_guid": "b1076dfc-b9ad-4769-8c92-a6c4dae69d19",
    "_uuid": "8f2839f25d086af736a60e9eeb907d3b93b6e0e5",
    "papermill": {
     "duration": 0.002997,
     "end_time": "2023-10-13T13:25:45.505225",
     "exception": false,
     "start_time": "2023-10-13T13:25:45.502228",
     "status": "completed"
    },
    "tags": []
   },
   "source": [
    "<h2 style=\"color:navy\"><u>Practical : 2</u></h2>"
   ]
  },
  {
   "cell_type": "markdown",
   "id": "9b580f46",
   "metadata": {
    "papermill": {
     "duration": 0.004185,
     "end_time": "2023-10-13T13:25:45.512420",
     "exception": false,
     "start_time": "2023-10-13T13:25:45.508235",
     "status": "completed"
    },
    "tags": []
   },
   "source": [
    "**<h4><u>Write a NumPy program to implement following operation</u></h4>**"
   ]
  },
  {
   "cell_type": "markdown",
   "id": "ba436e21",
   "metadata": {
    "papermill": {
     "duration": 0.002799,
     "end_time": "2023-10-13T13:25:45.518136",
     "exception": false,
     "start_time": "2023-10-13T13:25:45.515337",
     "status": "completed"
    },
    "tags": []
   },
   "source": [
    "* to convert a list of numeric values into a one-dimensional NumPy\n",
    "array"
   ]
  },
  {
   "cell_type": "code",
   "execution_count": 1,
   "id": "f4355617",
   "metadata": {
    "execution": {
     "iopub.execute_input": "2023-10-13T13:25:45.526328Z",
     "iopub.status.busy": "2023-10-13T13:25:45.525738Z",
     "iopub.status.idle": "2023-10-13T13:25:45.540265Z",
     "shell.execute_reply": "2023-10-13T13:25:45.538795Z"
    },
    "papermill": {
     "duration": 0.021564,
     "end_time": "2023-10-13T13:25:45.542863",
     "exception": false,
     "start_time": "2023-10-13T13:25:45.521299",
     "status": "completed"
    },
    "tags": []
   },
   "outputs": [
    {
     "name": "stdout",
     "output_type": "stream",
     "text": [
      "One Dimensional Array: \n",
      " [10 20 30 40 50]\n"
     ]
    }
   ],
   "source": [
    "import numpy as np;\n",
    "\n",
    "arr = np.array([10,20,30,40,50])\n",
    "print(\"One Dimensional Array: \\n\",arr)"
   ]
  },
  {
   "cell_type": "markdown",
   "id": "b5e4f4fc",
   "metadata": {
    "papermill": {
     "duration": 0.002385,
     "end_time": "2023-10-13T13:25:45.548234",
     "exception": false,
     "start_time": "2023-10-13T13:25:45.545849",
     "status": "completed"
    },
    "tags": []
   },
   "source": [
    "* to create a 3x3 matrix with values ranging from 2 to 10"
   ]
  },
  {
   "cell_type": "code",
   "execution_count": 2,
   "id": "3933cb9c",
   "metadata": {
    "execution": {
     "iopub.execute_input": "2023-10-13T13:25:45.555737Z",
     "iopub.status.busy": "2023-10-13T13:25:45.554699Z",
     "iopub.status.idle": "2023-10-13T13:25:45.561440Z",
     "shell.execute_reply": "2023-10-13T13:25:45.559977Z"
    },
    "papermill": {
     "duration": 0.012961,
     "end_time": "2023-10-13T13:25:45.563812",
     "exception": false,
     "start_time": "2023-10-13T13:25:45.550851",
     "status": "completed"
    },
    "tags": []
   },
   "outputs": [
    {
     "name": "stdout",
     "output_type": "stream",
     "text": [
      "3x3 Matrix ranging from 2 to 10: \n",
      " [[ 2  3  4]\n",
      " [ 5  6  7]\n",
      " [ 8  9 10]]\n"
     ]
    }
   ],
   "source": [
    "import numpy as np;\n",
    "\n",
    "arr = np.arange(2, 11).reshape(3,3)\n",
    "print(\"3x3 Matrix ranging from 2 to 10: \\n\",arr)"
   ]
  },
  {
   "cell_type": "markdown",
   "id": "bf868a31",
   "metadata": {
    "papermill": {
     "duration": 0.002459,
     "end_time": "2023-10-13T13:25:45.569290",
     "exception": false,
     "start_time": "2023-10-13T13:25:45.566831",
     "status": "completed"
    },
    "tags": []
   },
   "source": [
    "* to append values at the end of an array"
   ]
  },
  {
   "cell_type": "code",
   "execution_count": 3,
   "id": "6379623a",
   "metadata": {
    "execution": {
     "iopub.execute_input": "2023-10-13T13:25:45.576710Z",
     "iopub.status.busy": "2023-10-13T13:25:45.576274Z",
     "iopub.status.idle": "2023-10-13T13:25:45.581313Z",
     "shell.execute_reply": "2023-10-13T13:25:45.580560Z"
    },
    "papermill": {
     "duration": 0.014729,
     "end_time": "2023-10-13T13:25:45.586685",
     "exception": false,
     "start_time": "2023-10-13T13:25:45.571956",
     "status": "completed"
    },
    "tags": []
   },
   "outputs": [
    {
     "name": "stdout",
     "output_type": "stream",
     "text": [
      "Append items in array: \n",
      " ['a' 'b' 'c' 'd']\n"
     ]
    }
   ],
   "source": [
    "import numpy as np;\n",
    "\n",
    "arr = np.array([\"a\",\"b\",\"c\"])\n",
    "arr = np.append(arr, [\"d\"])\n",
    "print(\"Append items in array: \\n\",arr)"
   ]
  },
  {
   "cell_type": "markdown",
   "id": "e04a67bb",
   "metadata": {
    "papermill": {
     "duration": 0.00267,
     "end_time": "2023-10-13T13:25:45.592695",
     "exception": false,
     "start_time": "2023-10-13T13:25:45.590025",
     "status": "completed"
    },
    "tags": []
   },
   "source": [
    "* to create another shape from an array without changing its data(3*2\n",
    "to 2*3)"
   ]
  },
  {
   "cell_type": "code",
   "execution_count": 4,
   "id": "af6274fb",
   "metadata": {
    "execution": {
     "iopub.execute_input": "2023-10-13T13:25:45.599815Z",
     "iopub.status.busy": "2023-10-13T13:25:45.599462Z",
     "iopub.status.idle": "2023-10-13T13:25:45.605658Z",
     "shell.execute_reply": "2023-10-13T13:25:45.604109Z"
    },
    "papermill": {
     "duration": 0.013126,
     "end_time": "2023-10-13T13:25:45.608521",
     "exception": false,
     "start_time": "2023-10-13T13:25:45.595395",
     "status": "completed"
    },
    "tags": []
   },
   "outputs": [
    {
     "name": "stdout",
     "output_type": "stream",
     "text": [
      "3x2 Array: \n",
      " [[10 20]\n",
      " [30 40]\n",
      " [50 60]]\n",
      "2x3 Array: \n",
      " [[10 20 30]\n",
      " [40 50 60]]\n"
     ]
    }
   ],
   "source": [
    "import numpy as np;\n",
    "\n",
    "arr = np.array([10,20,30,40,50,60])\n",
    "\n",
    "arr_3x2 = np.reshape(arr,(3,2))\n",
    "arr_2x3 = np.reshape(arr,(2,3))\n",
    "\n",
    "print(\"3x2 Array: \\n\",arr_3x2)\n",
    "print(\"2x3 Array: \\n\",arr_2x3)"
   ]
  }
 ],
 "metadata": {
  "kernelspec": {
   "display_name": "Python 3",
   "language": "python",
   "name": "python3"
  },
  "language_info": {
   "codemirror_mode": {
    "name": "ipython",
    "version": 3
   },
   "file_extension": ".py",
   "mimetype": "text/x-python",
   "name": "python",
   "nbconvert_exporter": "python",
   "pygments_lexer": "ipython3",
   "version": "3.10.12"
  },
  "papermill": {
   "default_parameters": {},
   "duration": 4.153195,
   "end_time": "2023-10-13T13:25:46.032830",
   "environment_variables": {},
   "exception": null,
   "input_path": "__notebook__.ipynb",
   "output_path": "__notebook__.ipynb",
   "parameters": {},
   "start_time": "2023-10-13T13:25:41.879635",
   "version": "2.4.0"
  }
 },
 "nbformat": 4,
 "nbformat_minor": 5
}
